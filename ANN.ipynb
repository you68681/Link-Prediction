{
 "cells": [
  {
   "cell_type": "code",
   "execution_count": 77,
   "metadata": {},
   "outputs": [
    {
     "name": "stdout",
     "output_type": "stream",
     "text": [
      "3115203\n",
      "[-0.003664, -0.010529, 0.000951, -0.010362, -0.00992, 0.001895, -0.009051, -0.002565, -0.004761, 0.006063, -0.003169, -0.001264, -0.006631, 0.008602, -0.002499, 0.007777, 0.012692, -0.004383, -0.014793, -0.011643, -0.011474, 0.002032, -0.006311, -0.005045, -0.00707, 0.002107, 0.008732, 0.002466, -0.013719, -0.01027, -0.005629, 0.012239, -0.009121, 0.009076, -0.01276, 0.014228, -0.007223, 0.012587, -0.005072, 0.010051, 0.013812, -0.013432, -0.001863, 0.012258, -0.00069, -0.013196, 0.013531, 0.010857, -0.010729, -0.003637, 0.012782, -0.003286, 0.004362, 0.006237, -0.005615, -0.000869, -0.009493, 0.006963, 0.006289, 0.009049, -0.010173, -0.014987, 0.013261, 0.00679]\n"
     ]
    }
   ],
   "source": [
    "f1=open(\"negative_data_matrix\")\n",
    "list1=[]\n",
    "triger=False\n",
    "for i in f1:\n",
    "    a=i.split(\",\")\n",
    "    for k in a:\n",
    "        g=k.strip()\n",
    "        y=g.replace(\" \" ,\"\")\n",
    "        w=y.replace(\"[\",\"\")\n",
    "        z=w.replace(\"]\",\"\")\n",
    "        r=z.replace(\"(\",\"\")\n",
    "        q=r.replace(\")\",\"\")\n",
    "        list1.append(q)\n",
    "print(list1[66])\n",
    "real_negative_matrix=[]\n",
    "temprial1=[]\n",
    "count=0\n",
    "for i in range(len(list1)):\n",
    "    temprial1.append(float(list1[i]))\n",
    "    if (i+1)%66==0:\n",
    "        real_negative_matrix.append(temprial1[2:])\n",
    "        temprial1=[]\n",
    "print((real_negative_matrix[-1]))\n"
   ]
  },
  {
   "cell_type": "code",
   "execution_count": 78,
   "metadata": {},
   "outputs": [
    {
     "name": "stdout",
     "output_type": "stream",
     "text": [
      "False\n"
     ]
    }
   ],
   "source": [
    "print([1,2,3]==[1,3,2])"
   ]
  },
  {
   "cell_type": "code",
   "execution_count": 79,
   "metadata": {},
   "outputs": [
    {
     "name": "stdout",
     "output_type": "stream",
     "text": [
      "1671714\n",
      "25329\n",
      "[0.001235, 0.017657, -0.002354, -0.015903, -0.007172, 0.009875, -0.011947, -0.003661, -0.025598, 0.002508, -0.019345, -0.000788, -0.008089, -0.008828, -0.008604, -0.016317, -0.003589, -0.003484, -0.005563, 0.019342, -0.001509, -0.017529, 0.002568, 0.019882, 0.003292, -0.013917, 0.003536, -0.016984, -0.000351, -0.008448, -0.01077, -0.01436, 0.008238, -0.001703, -0.004112, 0.004226, 0.010109, -0.004879, -0.00361, -0.00188, -0.000714, -0.000555, -0.000707, 0.002761, 0.014742, 0.004529, 0.005843, 0.004588, 0.010831, 0.01177, -0.007106, -0.001778, -0.015362, 0.007282, 0.007935, 0.010625, -0.001811, -0.010786, 0.005106, -0.010546, 0.01088, -0.012923, -0.006411, 0.015178]\n"
     ]
    }
   ],
   "source": [
    "f2=open(\"postive_data_matrix\")\n",
    "list2=[]\n",
    "triger=False\n",
    "for i in f2:\n",
    "    a=i.split(\",\")\n",
    "    for k in a:\n",
    "        g=k.strip()\n",
    "        y=g.replace(\" \" ,\"\")\n",
    "        w=y.replace(\"[\",\"\")\n",
    "        z=w.replace(\"]\",\"\")\n",
    "        r=z.replace(\"(\",\"\")\n",
    "        q=r.replace(\")\",\"\")\n",
    "        list2.append(q)\n",
    "print(len(list2))\n",
    "real_positive_matrix=[]\n",
    "temprial2=[]\n",
    "count2=0\n",
    "for i in range(len(list2)):\n",
    "    temprial2.append(float(list2[i]))\n",
    "    if (i+1)%66==0:\n",
    "        real_positive_matrix.append(temprial2[2:])\n",
    "        temprial2=[]\n",
    "print(len(real_positive_matrix))\n",
    "print((real_positive_matrix[-1]))"
   ]
  },
  {
   "cell_type": "code",
   "execution_count": 80,
   "metadata": {},
   "outputs": [],
   "source": [
    "test = open(\"test-public.txt\")\n",
    "test_number=[]\n",
    "test_line=[]\n",
    "count=0\n",
    "for k in test:\n",
    "    a=k.strip()\n",
    "    y=a.split()\n",
    "    test_number.append((int(y[1]),int(y[2])))"
   ]
  },
  {
   "cell_type": "code",
   "execution_count": 81,
   "metadata": {},
   "outputs": [
    {
     "name": "stdout",
     "output_type": "stream",
     "text": [
      "1054633\n",
      "['0.210390', '-0.483587', '-0.616353', '-0.132549', '0.371746', '-0.266577', '-0.721492', '0.474960', '-0.879973', '-0.892621', '-0.450684', '-0.494011', '-0.639711', '-1.185246', '-0.067011', '-0.228376', '-0.575262', '0.005228', '-1.097888', '0.605728', '-0.261571', '-0.463770', '0.828352', '1.260430', '-0.138868', '-0.441728', '-0.068275', '-0.705783', '-0.898410', '-1.552443', '0.026680', '-0.102249']\n"
     ]
    }
   ],
   "source": [
    "f1=open(\"new_change_data_vector\")\n",
    "node_vector=[]\n",
    "node_matrix=[]\n",
    "for i in f1:\n",
    "    a=i.strip()\n",
    "    k=a.split()\n",
    "    node_vector.append(int(k[0]))\n",
    "    node_matrix.append(k[1:])\n",
    "print(node_vector[1])\n",
    "print(node_matrix[1])"
   ]
  },
  {
   "cell_type": "code",
   "execution_count": 82,
   "metadata": {},
   "outputs": [
    {
     "name": "stdout",
     "output_type": "stream",
     "text": [
      "[-0.13376, 0.08258, 0.02315, -0.02354, 0.016129, -0.11294, -0.158939, 0.026839, -0.126419, -0.051762, 0.015036, -0.009923, -0.042628, -0.130829, -0.022149, -0.023539, 0.027245, 0.061898, 0.00774, -0.00641, 0.009056, -0.122953, 0.182093, 0.082367, 0.03445, -0.051523, 0.04594, -0.111237, -0.101043, -0.176356, 0.060588, -0.034873]\n",
      "[0.21039, -0.483587, -0.616353, -0.132549, 0.371746, -0.266577, -0.721492, 0.47496, -0.879973, -0.892621, -0.450684, -0.494011, -0.639711, -1.185246, -0.067011, -0.228376, -0.575262, 0.005228, -1.097888, 0.605728, -0.261571, -0.46377, 0.828352, 1.26043, -0.138868, -0.441728, -0.068275, -0.705783, -0.89841, -1.552443, 0.02668, -0.102249]\n"
     ]
    }
   ],
   "source": [
    "int_node_matrix=[]\n",
    "temprial=[]\n",
    "for i in node_matrix:\n",
    "    for k in i:\n",
    "        temprial.append(float(k))\n",
    "    int_node_matrix.append(temprial)\n",
    "    temprial=[]\n",
    "print(int_node_matrix[0])\n",
    "print(int_node_matrix[1])"
   ]
  },
  {
   "cell_type": "code",
   "execution_count": 83,
   "metadata": {},
   "outputs": [
    {
     "name": "stdout",
     "output_type": "stream",
     "text": [
      "[0.000383, -0.014521, 0.000874, 0.005399, -0.010542, 0.002184, 0.013137, -0.007096, -0.015551, 0.000764, -0.001595, -0.00985, -1.7e-05, -0.009035, -0.001374, -0.003789, 0.002217, 0.003039, 0.0144, -0.004433, 0.014866, 0.010455, 0.00804, -0.014337, 0.011883, 0.011948, -0.002163, 0.001838, -0.009767, -0.001207, 0.0029, -0.003136, -0.011709, -0.013937, -0.011523, 0.002302, 0.011462, 0.003675, 0.00572, 0.007833, -0.008775, 0.008274, 0.007696, 0.008714, 0.000299, 0.009073, -0.010676, 0.009163, -0.010351, -0.001418, -0.015149, -0.004219, 0.00491, -0.015363, -0.004779, -0.010878, 0.001368, 0.009962, -0.003526, -0.012118, 0.011294, 0.012168, -0.007869, -0.013498]\n"
     ]
    }
   ],
   "source": [
    "test_node_matrix=[]\n",
    "count=0\n",
    "for i in range(len(test_number)):\n",
    "    test_node_matrix.append((int_node_matrix[node_vector.index(test_number[i][0])]+int_node_matrix[node_vector.index(test_number[i][1])]))\n",
    "print((test_node_matrix[-1]))\n",
    "        "
   ]
  },
  {
   "cell_type": "code",
   "execution_count": 84,
   "metadata": {},
   "outputs": [],
   "source": [
    "real_negative_matrix_new=[]\n",
    "Tlist=[]\n",
    "for i in range(len(real_negative_matrix)):\n",
    "    for k in range(0,32):\n",
    "        Tlist.append(real_negative_matrix[i][k]-real_negative_matrix[i][k+32])\n",
    "    real_negative_matrix_new.append(Tlist)\n",
    "    Tlist=[]\n",
    "    \n"
   ]
  },
  {
   "cell_type": "code",
   "execution_count": 85,
   "metadata": {},
   "outputs": [],
   "source": [
    "real_positive_matrix_new=[]\n",
    "Tlist1=[]\n",
    "for i in range(len(real_positive_matrix)):\n",
    "    for k in range(0,32):\n",
    "        Tlist1.append(real_positive_matrix[i][k]-real_positive_matrix[i][k+32])\n",
    "    real_positive_matrix_new.append(Tlist1)\n",
    "    Tlist1=[]"
   ]
  },
  {
   "cell_type": "code",
   "execution_count": 86,
   "metadata": {},
   "outputs": [],
   "source": [
    "test_node_matrix_new=[]\n",
    "Tlist2=[]\n",
    "for i in range(len(test_node_matrix)):\n",
    "    for k in range(0,32):\n",
    "        Tlist2.append(test_node_matrix[i][k]-test_node_matrix[i][k+32])\n",
    "    test_node_matrix_new.append(Tlist2)\n",
    "    Tlist2=[]"
   ]
  },
  {
   "cell_type": "code",
   "execution_count": 87,
   "metadata": {},
   "outputs": [
    {
     "name": "stdout",
     "output_type": "stream",
     "text": [
      "32\n",
      "32\n",
      "32\n"
     ]
    }
   ],
   "source": [
    "print(len(real_negative_matrix_new[-1]))\n",
    "print(len(real_positive_matrix_new[-1]))\n",
    "print(len(test_node_matrix_new[-1]))"
   ]
  },
  {
   "cell_type": "code",
   "execution_count": 88,
   "metadata": {},
   "outputs": [],
   "source": [
    "import random\n",
    "real_negative_matrix_tuple=[]\n",
    "real_positive_matrix_tuple=[]\n",
    "for i in real_negative_matrix_new:\n",
    "    real_negative_matrix_tuple.append((i,[0,1]))\n",
    "for i in real_positive_matrix_new:\n",
    "    real_positive_matrix_tuple.append((i,[1,0]))\n",
    "common_matrix=real_negative_matrix_tuple+real_positive_matrix_tuple\n",
    "random.shuffle(common_matrix)    "
   ]
  },
  {
   "cell_type": "code",
   "execution_count": 89,
   "metadata": {},
   "outputs": [],
   "source": [
    "node_x=[]\n",
    "node_y=[]\n",
    "for i in common_matrix:\n",
    "    node_x.append(i[0])\n",
    "    node_y.append(i[1])"
   ]
  },
  {
   "cell_type": "code",
   "execution_count": 90,
   "metadata": {},
   "outputs": [
    {
     "name": "stdout",
     "output_type": "stream",
     "text": [
      "[-0.057352, 0.037889, -0.020909, 0.0018090000000000003, 0.022795, -0.074241, -0.06978999999999999, 0.005402999999999998, -0.07391, -0.036635, 0.013545, -0.02605, -0.0008719999999999995, -0.049065, 0.00716, -0.004765, 0.022495, 0.013188, -0.004246000000000001, 0.023254999999999998, 0.010121, -0.075253, 0.08057500000000001, 0.063151, 0.02078, -0.0020859999999999993, 0.014879000000000002, -0.097049, -0.045291, -0.103821, 0.016479, -0.001521999999999999]\n",
      "[1, 0]\n"
     ]
    }
   ],
   "source": [
    "print(node_x[0])\n",
    "print(node_y[1])"
   ]
  },
  {
   "cell_type": "code",
   "execution_count": 91,
   "metadata": {
    "scrolled": true
   },
   "outputs": [
    {
     "name": "stdout",
     "output_type": "stream",
     "text": [
      "Epoch: 0001 cost= 0.679503146\n",
      "Epoch: 0501 cost= 0.361952362\n",
      "Epoch: 1001 cost= 0.353498682\n",
      "Epoch: 1501 cost= 0.348346827\n",
      "Epoch: 2001 cost= 0.344777706\n",
      "Epoch: 2501 cost= 0.342692825\n",
      "Epoch: 3001 cost= 0.339817740\n",
      "Epoch: 3501 cost= 0.339141864\n",
      "Epoch: 4001 cost= 0.337278362\n",
      "Epoch: 4501 cost= 0.337142019\n",
      "Optimization Finished!\n"
     ]
    }
   ],
   "source": [
    "import  tensorflow  as tf\n",
    "import numpy as np\n",
    "from sklearn.datasets import make_classification\n",
    "from sklearn.model_selection import train_test_split\n",
    "#X, Y = make_classification(n_samples=50000, n_features=10, n_informative=8,\n",
    "#                           n_redundant=0, n_clusters_per_class=2)\n",
    "#Y = np.array([Y, -(Y-1)]).T  # The model currently needs one column for each class\n",
    "X=node_x\n",
    "Y=node_y\n",
    "X_test=test_node_matrix_new\n",
    "#X, X_test, Y, Y_test = train_test_split(X, Y)\n",
    "\n",
    "# Parameters\n",
    "learning_rate = 0.001\n",
    "training_epochs = 5000\n",
    "batch_size = 100\n",
    "display_step = 500\n",
    "\n",
    "\n",
    "# Network Parameters\n",
    "n_hidden_1 = 32 # 1st layer number of features\n",
    "n_hidden_2 = 32 # 2nd layer number of features\n",
    "n_input = 32 # Number of feature\n",
    "n_classes = 2 # Number of classes to predict\n",
    "\n",
    "\n",
    "# tf Graph input\n",
    "x = tf.placeholder(\"float\", [None, n_input])\n",
    "y = tf.placeholder(\"float\", [None, n_classes])\n",
    "\n",
    "# Create model\n",
    "def multilayer_perceptron(x, weights, biases):\n",
    "    # Hidden layer with RELU activation\n",
    "    layer_1 = tf.add(tf.matmul(x, weights['h1']), biases['b1'])\n",
    "    layer_1 = tf.nn.relu(layer_1)\n",
    "    # Hidden layer with RELU activation\n",
    "    layer_2 = tf.add(tf.matmul(layer_1, weights['h2']), biases['b2'])\n",
    "    layer_2 = tf.nn.relu(layer_2)\n",
    "    # Output layer with linear activation\n",
    "    out_layer = tf.matmul(layer_2, weights['out']) + biases['out']\n",
    "    return out_layer\n",
    "\n",
    "# Store layers weight & bias\n",
    "weights = {\n",
    "    'h1': tf.Variable(tf.random_normal([n_input, n_hidden_1])),\n",
    "    'h2': tf.Variable(tf.random_normal([n_hidden_1, n_hidden_2])),\n",
    "    'out': tf.Variable(tf.random_normal([n_hidden_2, n_classes]))\n",
    "}\n",
    "\n",
    "biases = {\n",
    "    'b1': tf.Variable(tf.random_normal([n_hidden_1])),\n",
    "    'b2': tf.Variable(tf.random_normal([n_hidden_2])),\n",
    "    'out': tf.Variable(tf.random_normal([n_classes]))\n",
    "}\n",
    "\n",
    "# Construct model\n",
    "pred = multilayer_perceptron(x, weights, biases)\n",
    "\n",
    "# Define loss and optimizer\n",
    "cost = tf.reduce_mean(tf.nn.softmax_cross_entropy_with_logits(logits=pred, labels=y))\n",
    "optimizer = tf.train.AdamOptimizer(learning_rate=learning_rate).minimize(cost)\n",
    "\n",
    "# Initializing the variables\n",
    "init = tf.global_variables_initializer()\n",
    "\n",
    "with tf.Session() as sess:\n",
    "    sess.run(init)\n",
    "    # Training cycle\n",
    "    for epoch in range(training_epochs):\n",
    "        avg_cost = 0.\n",
    "        total_batch = int(len(X)/batch_size)\n",
    "        X_batches = np.array_split(X, total_batch)\n",
    "        Y_batches = np.array_split(Y, total_batch)\n",
    "        # Loop over all batches\n",
    "        for i in range(total_batch):\n",
    "            batch_x, batch_y = X_batches[i], Y_batches[i]\n",
    "            # Run optimization op (backprop) and cost op (to get loss value)\n",
    "            _, c = sess.run([optimizer, cost], feed_dict={x: batch_x,\n",
    "                                                          y: batch_y})\n",
    "            # Compute average loss\n",
    "            avg_cost += c / total_batch\n",
    "        # Display logs per epoch step\n",
    "        if epoch % display_step == 0:\n",
    "            print(\"Epoch:\", '%04d' % (epoch+1), \"cost=\", \"{:.9f}\".format(avg_cost))\n",
    "    print(\"Optimization Finished!\")\n",
    "    special_list=[]\n",
    "    for i in (sess.run(pred, feed_dict={x:X_test})):\n",
    "        special_list.append(i)\n",
    "        "
   ]
  },
  {
   "cell_type": "code",
   "execution_count": 94,
   "metadata": {},
   "outputs": [],
   "source": [
    "out_put=open(\"ann_test_result_MU_new\",\"w\")\n",
    "for i in range(1,2001):\n",
    "#    if float(special_list[i-1][0])==1.0:\n",
    "#        word=str(i)+\",\"+\"0.99\"+\"\\n\"\n",
    "#    if \"e\" in str(special_list[i-1][0]):\n",
    "#        word=str(i)+\",\"+\"0\"+\"\\n\"\n",
    "#    else:    \n",
    "    word=str(i)+\",\"+str(float(special_list[i-1][0]))+\"\\n\"\n",
    "    out_put.write(word)\n",
    "out_put.close()"
   ]
  }
 ],
 "metadata": {
  "kernelspec": {
   "display_name": "Python 3",
   "language": "python",
   "name": "python3"
  },
  "language_info": {
   "codemirror_mode": {
    "name": "ipython",
    "version": 3
   },
   "file_extension": ".py",
   "mimetype": "text/x-python",
   "name": "python",
   "nbconvert_exporter": "python",
   "pygments_lexer": "ipython3",
   "version": "3.6.2"
  }
 },
 "nbformat": 4,
 "nbformat_minor": 2
}
